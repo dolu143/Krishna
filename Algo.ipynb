{
  "nbformat": 4,
  "nbformat_minor": 0,
  "metadata": {
    "colab": {
      "provenance": [],
      "authorship_tag": "ABX9TyMtg3+2hCn3uIxZGLHDdirN",
      "include_colab_link": true
    },
    "kernelspec": {
      "name": "python3",
      "display_name": "Python 3"
    },
    "language_info": {
      "name": "python"
    }
  },
  "cells": [
    {
      "cell_type": "markdown",
      "metadata": {
        "id": "view-in-github",
        "colab_type": "text"
      },
      "source": [
        "<a href=\"https://colab.research.google.com/github/dolu143/Krishna/blob/main/Algo.ipynb\" target=\"_parent\"><img src=\"https://colab.research.google.com/assets/colab-badge.svg\" alt=\"Open In Colab\"/></a>"
      ]
    },
    {
      "cell_type": "markdown",
      "source": [
        "!git clone https://github.com/dolu143/Krishna.git\n",
        "!pip install smartapi-python\n",
        "!pip install websocket\n",
        "!pip install pyotp\n",
        "!pip install xlwings\n",
        "!pip install xlsxwriter\n",
        "\n",
        "```\n",
        "# This is formatted as code\n",
        "```\n",
        "\n"
      ],
      "metadata": {
        "id": "SHKYg7XXZMc3"
      }
    },
    {
      "cell_type": "code",
      "source": [
        "from Krishna import functions\n",
        "import pandas as pd\n",
        "import xlsxwriter as xw\n",
        "exch_seg = 'NFO'\n",
        "timeframe = 'FIFTEEN_MINUTE'\n",
        "fromdate = '2023-03-15 09:00'\n",
        "todate = '2023-03-15 15:30'"
      ],
      "metadata": {
        "id": "cT3MkeLVmbEg"
      },
      "execution_count": 7,
      "outputs": []
    },
    {
      "cell_type": "code",
      "source": [
        "functions.intializeSymbolTokenMap()\n",
        "tokenInfo = functions.getTokenInfo(exch_seg,'OPTIDX','NIFTY',17000,'PE').iloc[0]\n",
        "#print(tokenInfo)\n",
        "symbol  = tokenInfo['symbol']\n",
        "token = tokenInfo['token']\n",
        "lot = int(tokenInfo['lotsize'])\n",
        "print(symbol, token, lot)"
      ],
      "metadata": {
        "colab": {
          "base_uri": "https://localhost:8080/"
        },
        "id": "3qRpndLf4088",
        "outputId": "f5a28aed-065d-477e-e5d4-aec5e2e8fc32"
      },
      "execution_count": 8,
      "outputs": [
        {
          "output_type": "stream",
          "name": "stdout",
          "text": [
            "NIFTY16MAR2317000PE 55582 50\n"
          ]
        }
      ]
    },
    {
      "cell_type": "code",
      "source": [
        "functions.login()"
      ],
      "metadata": {
        "id": "-9TBYPal-ZNB",
        "colab": {
          "base_uri": "https://localhost:8080/"
        },
        "outputId": "f07841b6-bbf2-43c0-95bd-3b1901847783"
      },
      "execution_count": 9,
      "outputs": [
        {
          "output_type": "stream",
          "name": "stdout",
          "text": [
            "0826949757\n"
          ]
        }
      ]
    },
    {
      "cell_type": "code",
      "source": [
        "#functions.place_order(token,symbol,lot,'NFO','BUY','MARKET',0)\n"
      ],
      "metadata": {
        "id": "Efe5yKSN6EPk"
      },
      "execution_count": 10,
      "outputs": []
    },
    {
      "cell_type": "code",
      "source": [
        "hist_candata= functions.histcand(exch_seg,token,timeframe,fromdate,todate)\n",
        "columns = [\"time\", \"o\",\"h\",\"l\",\"c\",\"v\"]\n",
        "hist_candata = pd.DataFrame(hist_candata[\"data\"], columns = columns)\n",
        "hist_candata[\"time\"] = pd.to_datetime(hist_candata[\"time\"], format=\"%Y-%m-%dT%H:%M:%S\")\n",
        "print(hist_candata)\n",
        "wb = xw.Workbook(\"//content//Krishna//Hist_CanData.xlsx\")\n",
        "wb1 = wb.add_worksheet(\"Nifty\")\n",
        "wb1.write_row(0,0,columns)\n",
        "wb1.write_column(1,1, hist_candata['o'])\n",
        "wb1.write_column(1,2, hist_candata['h'])\n",
        "wb1.write_column(1,3, hist_candata['l'])\n",
        "wb1.write_column(1,4, hist_candata['c'])\n",
        "wb.close()"
      ],
      "metadata": {
        "id": "6vvFiwWUdcbg",
        "outputId": "97c90e2d-4295-402a-a232-9b426c9504ba",
        "colab": {
          "base_uri": "https://localhost:8080/"
        }
      },
      "execution_count": 11,
      "outputs": [
        {
          "output_type": "stream",
          "name": "stdout",
          "text": [
            "                        time      o      h      l      c       v\n",
            "0  2023-03-15 09:15:00+05:30  36.90  37.00  16.35  19.15  483272\n",
            "1  2023-03-15 09:30:00+05:30  19.05  31.80  16.60  25.55  301786\n",
            "2  2023-03-15 09:45:00+05:30  25.50  27.25  19.65  24.90  213575\n",
            "3  2023-03-15 10:00:00+05:30  25.00  27.35  22.45  22.90  185936\n",
            "4  2023-03-15 10:15:00+05:30  22.90  24.90  19.75  22.25  143347\n",
            "5  2023-03-15 10:30:00+05:30  22.25  30.15  21.65  29.20  172661\n",
            "6  2023-03-15 10:45:00+05:30  29.15  32.35  27.05  29.75  153100\n",
            "7  2023-03-15 11:00:00+05:30  29.60  34.70  25.60  30.05  207353\n",
            "8  2023-03-15 11:15:00+05:30  30.05  31.20  20.55  21.80  206349\n",
            "9  2023-03-15 11:30:00+05:30  20.85  23.85  18.10  21.25  192999\n",
            "10 2023-03-15 11:45:00+05:30  21.15  24.45  20.50  23.95  102217\n",
            "11 2023-03-15 12:00:00+05:30  23.75  30.15  23.55  30.00  167461\n",
            "12 2023-03-15 12:15:00+05:30  30.20  33.50  26.25  31.50  233398\n",
            "13 2023-03-15 12:30:00+05:30  31.45  35.00  27.55  27.95  199438\n",
            "14 2023-03-15 12:45:00+05:30  27.85  38.00  26.40  37.65  234592\n",
            "15 2023-03-15 13:00:00+05:30  37.25  49.45  35.65  46.15  335368\n",
            "16 2023-03-15 13:15:00+05:30  45.95  50.00  40.90  44.15  271840\n",
            "17 2023-03-15 13:30:00+05:30  44.05  49.45  31.85  33.05  271629\n",
            "18 2023-03-15 13:45:00+05:30  33.80  52.60  32.65  51.15  372278\n",
            "19 2023-03-15 14:00:00+05:30  51.05  51.65  36.50  42.55  283405\n",
            "20 2023-03-15 14:15:00+05:30  42.10  48.70  37.60  48.60  224345\n",
            "21 2023-03-15 14:30:00+05:30  48.40  50.75  38.70  49.75  305033\n",
            "22 2023-03-15 14:45:00+05:30  49.70  58.50  43.55  50.25  360382\n",
            "23 2023-03-15 15:00:00+05:30  49.65  82.30  48.60  78.85  585245\n",
            "24 2023-03-15 15:15:00+05:30  79.00  93.95  72.35  78.00  313624\n"
          ]
        }
      ]
    },
    {
      "cell_type": "code",
      "source": [
        "functions.logout()"
      ],
      "metadata": {
        "id": "psXQ25yUo0vM",
        "outputId": "31dfafa8-fd41-48fe-be85-1766f3f1e4bb",
        "colab": {
          "base_uri": "https://localhost:8080/"
        }
      },
      "execution_count": 12,
      "outputs": [
        {
          "output_type": "stream",
          "name": "stdout",
          "text": [
            "Your Session was Logout Successfully\n"
          ]
        }
      ]
    },
    {
      "cell_type": "code",
      "source": [],
      "metadata": {
        "id": "4WqVIDS2Oseq"
      },
      "execution_count": 12,
      "outputs": []
    }
  ]
}