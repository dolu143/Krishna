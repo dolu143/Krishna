{
  "nbformat": 4,
  "nbformat_minor": 0,
  "metadata": {
    "colab": {
      "provenance": [],
      "authorship_tag": "ABX9TyNKCZ37osvpVsQTHVCufDtS",
      "include_colab_link": true
    },
    "kernelspec": {
      "name": "python3",
      "display_name": "Python 3"
    },
    "language_info": {
      "name": "python"
    }
  },
  "cells": [
    {
      "cell_type": "markdown",
      "metadata": {
        "id": "view-in-github",
        "colab_type": "text"
      },
      "source": [
        "<a href=\"https://colab.research.google.com/github/dolu143/Krishna/blob/main/Algo.ipynb\" target=\"_parent\"><img src=\"https://colab.research.google.com/assets/colab-badge.svg\" alt=\"Open In Colab\"/></a>"
      ]
    },
    {
      "cell_type": "code",
      "source": [
        "!pip install smartapi-python\n",
        "!pip install websocket-client"
      ],
      "metadata": {
        "id": "hMJUbI-jFe-W"
      },
      "execution_count": null,
      "outputs": []
    },
    {
      "cell_type": "code",
      "source": [
        "from smartapi import SmartConnect\n",
        "#import credentials\n",
        "import pyotp\n",
        "import pandas as pd\n",
        "from datetime import datetime, timedelta\n",
        "import requests\n",
        "import numpy as np\n",
        "from time import time, sleep\n",
        "from talib.abstract import *\n",
        "import threading\n",
        "import warnings\n",
        "warnings.filterwarnings('ignore')"
      ],
      "metadata": {
        "id": "cT3MkeLVmbEg"
      },
      "execution_count": 27,
      "outputs": []
    },
    {
      "cell_type": "code",
      "source": [],
      "metadata": {
        "id": "-9TBYPal-ZNB"
      },
      "execution_count": null,
      "outputs": []
    },
    {
      "cell_type": "code",
      "source": [],
      "metadata": {
        "id": "psXQ25yUo0vM"
      },
      "execution_count": 11,
      "outputs": []
    },
    {
      "cell_type": "code",
      "source": [],
      "metadata": {
        "id": "b1ldd8Rk9eke"
      },
      "execution_count": null,
      "outputs": []
    }
  ]
}