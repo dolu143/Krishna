{
  "nbformat": 4,
  "nbformat_minor": 0,
  "metadata": {
    "colab": {
      "provenance": [],
      "authorship_tag": "ABX9TyO0NDXPLovQSDTO3LZGW0U9",
      "include_colab_link": true
    },
    "kernelspec": {
      "name": "python3",
      "display_name": "Python 3"
    },
    "language_info": {
      "name": "python"
    }
  },
  "cells": [
    {
      "cell_type": "markdown",
      "metadata": {
        "id": "view-in-github",
        "colab_type": "text"
      },
      "source": [
        "<a href=\"https://colab.research.google.com/github/dolu143/Krishna/blob/main/Algo.ipynb\" target=\"_parent\"><img src=\"https://colab.research.google.com/assets/colab-badge.svg\" alt=\"Open In Colab\"/></a>"
      ]
    },
    {
      "cell_type": "code",
      "source": [
        "from Krishna import functions\n",
        "exch_seg = 'NFO'\n",
        "timeframe = 'ONE_MINUTE'\n",
        "fromdate = '2023-03-14 09:00'\n",
        "todate = '2021-03-14 15:30'"
      ],
      "metadata": {
        "id": "cT3MkeLVmbEg"
      },
      "execution_count": 61,
      "outputs": []
    },
    {
      "cell_type": "code",
      "source": [
        "functions.intializeSymbolTokenMap()\n",
        "tokenInfo = functions.getTokenInfo(exch_seg,'OPTIDX','NIFTY',17000,'PE').iloc[0]\n",
        "#print(tokenInfo)\n",
        "symbol  = tokenInfo['symbol']\n",
        "token = tokenInfo['token']\n",
        "lot = int(tokenInfo['lotsize'])\n",
        "print(symbol, token, lot)"
      ],
      "metadata": {
        "colab": {
          "base_uri": "https://localhost:8080/"
        },
        "id": "3qRpndLf4088",
        "outputId": "9d1fe9ed-c378-460b-d89c-2f2a4420262a"
      },
      "execution_count": 62,
      "outputs": [
        {
          "output_type": "stream",
          "name": "stdout",
          "text": [
            "NIFTY16MAR2317000PE 55582 50\n"
          ]
        }
      ]
    },
    {
      "cell_type": "code",
      "source": [
        "functions.login()"
      ],
      "metadata": {
        "id": "-9TBYPal-ZNB",
        "colab": {
          "base_uri": "https://localhost:8080/"
        },
        "outputId": "1ac1afc3-b870-4385-9786-66f266648827"
      },
      "execution_count": 63,
      "outputs": [
        {
          "output_type": "stream",
          "name": "stdout",
          "text": [
            "0810876739\n"
          ]
        }
      ]
    },
    {
      "cell_type": "code",
      "source": [
        "#functions.place_order(token,symbol,lot,'NFO','BUY','MARKET',0)\n",
        "functions.fetch_histcandle(exch_seg,token,timeframe,fromdate,todate)"
      ],
      "metadata": {
        "id": "Efe5yKSN6EPk",
        "outputId": "25312ff4-54c0-45b9-cdf1-9ef77cb75cd9",
        "colab": {
          "base_uri": "https://localhost:8080/",
          "height": 190
        }
      },
      "execution_count": 64,
      "outputs": [
        {
          "output_type": "error",
          "ename": "AttributeError",
          "evalue": "ignored",
          "traceback": [
            "\u001b[0;31m---------------------------------------------------------------------------\u001b[0m",
            "\u001b[0;31mAttributeError\u001b[0m                            Traceback (most recent call last)",
            "\u001b[0;32m<ipython-input-64-6223bc226ea6>\u001b[0m in \u001b[0;36m<module>\u001b[0;34m\u001b[0m\n\u001b[1;32m      1\u001b[0m \u001b[0;31m#functions.place_order(token,symbol,lot,'NFO','BUY','MARKET',0)\u001b[0m\u001b[0;34m\u001b[0m\u001b[0;34m\u001b[0m\u001b[0m\n\u001b[0;32m----> 2\u001b[0;31m \u001b[0mfunctions\u001b[0m\u001b[0;34m.\u001b[0m\u001b[0mfetch_histcandle\u001b[0m\u001b[0;34m(\u001b[0m\u001b[0mexch_seg\u001b[0m\u001b[0;34m,\u001b[0m\u001b[0mtoken\u001b[0m\u001b[0;34m,\u001b[0m\u001b[0mtimeframe\u001b[0m\u001b[0;34m,\u001b[0m\u001b[0mfromdate\u001b[0m\u001b[0;34m,\u001b[0m\u001b[0mtodate\u001b[0m\u001b[0;34m)\u001b[0m\u001b[0;34m\u001b[0m\u001b[0;34m\u001b[0m\u001b[0m\n\u001b[0m",
            "\u001b[0;31mAttributeError\u001b[0m: module 'Krishna.functions' has no attribute 'fetch_histcandle'"
          ]
        }
      ]
    },
    {
      "cell_type": "code",
      "source": [
        "functions.logout()"
      ],
      "metadata": {
        "id": "psXQ25yUo0vM"
      },
      "execution_count": null,
      "outputs": []
    },
    {
      "cell_type": "code",
      "source": [
        "functions."
      ],
      "metadata": {
        "id": "gVxxKqcnPThA"
      },
      "execution_count": null,
      "outputs": []
    }
  ]
}