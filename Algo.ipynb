{
  "nbformat": 4,
  "nbformat_minor": 0,
  "metadata": {
    "colab": {
      "provenance": [],
      "authorship_tag": "ABX9TyNfXDIekKY6VRsnAOg0FGD8",
      "include_colab_link": true
    },
    "kernelspec": {
      "name": "python3",
      "display_name": "Python 3"
    },
    "language_info": {
      "name": "python"
    }
  },
  "cells": [
    {
      "cell_type": "markdown",
      "metadata": {
        "id": "view-in-github",
        "colab_type": "text"
      },
      "source": [
        "<a href=\"https://colab.research.google.com/github/dolu143/Krishna/blob/main/Algo.ipynb\" target=\"_parent\"><img src=\"https://colab.research.google.com/assets/colab-badge.svg\" alt=\"Open In Colab\"/></a>"
      ]
    },
    {
      "cell_type": "markdown",
      "source": [
        "!git clone https://github.com/dolu143/Krishna.git\n",
        "!pip install smartapi-python\n",
        "!pip install websocket\n",
        "!pip install pyotp\n",
        "!pip install xlwings\n",
        "!pip install xlsxwriter\n",
        "\n",
        "```\n",
        "# This is formatted as code\n",
        "```\n",
        "\n"
      ],
      "metadata": {
        "id": "SHKYg7XXZMc3"
      }
    },
    {
      "cell_type": "code",
      "source": [
        "from Krishna import functions\n",
        "import pandas as pd\n",
        "import xlsxwriter as xw\n",
        "exch_seg = 'NFO'\n",
        "timeframe = 'FIFTEEN_MINUTE'\n",
        "fromdate = '2023-03-15 09:00'\n",
        "todate = '2023-03-15 15:30'"
      ],
      "metadata": {
        "id": "cT3MkeLVmbEg"
      },
      "execution_count": null,
      "outputs": []
    },
    {
      "cell_type": "code",
      "source": [
        "functions.intializeSymbolTokenMap()\n",
        "tokenInfo = functions.getTokenInfo(exch_seg,'OPTIDX','NIFTY',17000,'PE').iloc[0]\n",
        "#print(tokenInfo)\n",
        "symbol  = tokenInfo['symbol']\n",
        "token = tokenInfo['token']\n",
        "lot = int(tokenInfo['lotsize'])\n",
        "print(symbol, token, lot)"
      ],
      "metadata": {
        "id": "3qRpndLf4088"
      },
      "execution_count": null,
      "outputs": []
    },
    {
      "cell_type": "code",
      "source": [
        "functions.login()"
      ],
      "metadata": {
        "id": "-9TBYPal-ZNB"
      },
      "execution_count": null,
      "outputs": []
    },
    {
      "cell_type": "code",
      "source": [
        "#functions.place_order(token,symbol,lot,'NFO','BUY','MARKET',0)\n"
      ],
      "metadata": {
        "id": "Efe5yKSN6EPk"
      },
      "execution_count": null,
      "outputs": []
    },
    {
      "cell_type": "code",
      "source": [
        "hist_candata= functions.histcand(exch_seg,token,timeframe,fromdate,todate)\n",
        "columns = [\"time\", \"o\",\"h\",\"l\",\"c\",\"v\"]\n",
        "hist_candata = pd.DataFrame(hist_candata[\"data\"], columns = columns)\n",
        "hist_candata[\"time\"] = pd.to_datetime(hist_candata[\"time\"], format=\"%Y-%m-%dT%H:%M:%S\")\n",
        "#hist_candata[\"time\"] =hist_candata[\"time\"].replace(tzinfo=None)\n",
        "print(hist_candata)\n",
        "wb = xw.Workbook(\"//content//Krishna//Hist_CanData.xlsx\")\n",
        "wb1 = wb.add_worksheet(\"Nifty\")\n",
        "wb1.write_row(0,0,columns)\n",
        "#wb1.write_column(1,1, hist_candata['time'])\n",
        "wb1.write_column(1,1, hist_candata['o'])\n",
        "wb1.write_column(1,2, hist_candata['h'])\n",
        "wb1.write_column(1,3, hist_candata['l'])\n",
        "wb1.write_column(1,4, hist_candata['c'])\n",
        "wb.close()"
      ],
      "metadata": {
        "id": "6vvFiwWUdcbg"
      },
      "execution_count": null,
      "outputs": []
    },
    {
      "cell_type": "code",
      "source": [
        "functions.logout()"
      ],
      "metadata": {
        "id": "psXQ25yUo0vM"
      },
      "execution_count": null,
      "outputs": []
    },
    {
      "cell_type": "code",
      "source": [],
      "metadata": {
        "id": "4WqVIDS2Oseq"
      },
      "execution_count": null,
      "outputs": []
    }
  ]
}