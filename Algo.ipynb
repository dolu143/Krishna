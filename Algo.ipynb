{
  "nbformat": 4,
  "nbformat_minor": 0,
  "metadata": {
    "colab": {
      "provenance": [],
      "authorship_tag": "ABX9TyPAhM6ugvT2TUhdiXqeDMrB",
      "include_colab_link": true
    },
    "kernelspec": {
      "name": "python3",
      "display_name": "Python 3"
    },
    "language_info": {
      "name": "python"
    }
  },
  "cells": [
    {
      "cell_type": "markdown",
      "metadata": {
        "id": "view-in-github",
        "colab_type": "text"
      },
      "source": [
        "<a href=\"https://colab.research.google.com/github/dolu143/Krishna/blob/main/Algo.ipynb\" target=\"_parent\"><img src=\"https://colab.research.google.com/assets/colab-badge.svg\" alt=\"Open In Colab\"/></a>"
      ]
    },
    {
      "cell_type": "markdown",
      "source": [
        "# !git clone https://github.com/dolu143/Krishna.git\n",
        "!pip install smartapi-python\n",
        "!pip install websocket\n",
        "!pip install pyotp\n",
        "!pip install xlwings\n",
        "!pip install xlsxwriter\n",
        "\n",
        "```\n",
        "# This is formatted as code\n",
        "```\n",
        "\n"
      ],
      "metadata": {
        "id": "SHKYg7XXZMc3"
      }
    },
    {
      "cell_type": "code",
      "source": [
        "from Krishna import functions\n",
        "import pandas as pd\n",
        "import xlsxwriter as xw\n",
        "import pytz\n",
        "exch_seg = 'NFO'\n",
        "timeframe = 'FIFTEEN_MINUTE'\n",
        "fromdate = '2023-03-15 09:00'\n",
        "todate = '2023-03-15 15:30'"
      ],
      "metadata": {
        "id": "cT3MkeLVmbEg"
      },
      "execution_count": 82,
      "outputs": []
    },
    {
      "cell_type": "code",
      "source": [
        "functions.intializeSymbolTokenMap()\n",
        "tokenInfo = functions.getTokenInfo(exch_seg,'OPTIDX','NIFTY',17000,'PE').iloc[1]\n",
        "#print(tokenInfo)\n",
        "symbol  = tokenInfo['symbol']\n",
        "token = tokenInfo['token']\n",
        "lot = int(tokenInfo['lotsize'])\n",
        "print(symbol, token, lot)"
      ],
      "metadata": {
        "id": "3qRpndLf4088",
        "outputId": "5805374b-7bc5-4ae4-b115-0e72909c1dcc",
        "colab": {
          "base_uri": "https://localhost:8080/"
        }
      },
      "execution_count": 83,
      "outputs": [
        {
          "output_type": "stream",
          "name": "stdout",
          "text": [
            "NIFTY23MAR2317000PE 41879 50\n"
          ]
        }
      ]
    },
    {
      "cell_type": "code",
      "source": [
        "functions.login()"
      ],
      "metadata": {
        "id": "-9TBYPal-ZNB",
        "outputId": "09a98b96-ac9a-4e3f-cc78-c0b0cf3de16c",
        "colab": {
          "base_uri": "https://localhost:8080/"
        }
      },
      "execution_count": 84,
      "outputs": [
        {
          "output_type": "stream",
          "name": "stdout",
          "text": [
            "0881662023\n"
          ]
        }
      ]
    },
    {
      "cell_type": "code",
      "source": [
        "#functions.place_order(token,symbol,lot,'NFO','BUY','MARKET',0)\n"
      ],
      "metadata": {
        "id": "Efe5yKSN6EPk"
      },
      "execution_count": 85,
      "outputs": []
    },
    {
      "cell_type": "code",
      "source": [
        "hist_candata= functions.histcand(exch_seg,token,timeframe,fromdate,todate)\n",
        "functions.write_toxl(hist_candata)"
      ],
      "metadata": {
        "id": "6vvFiwWUdcbg"
      },
      "execution_count": null,
      "outputs": []
    },
    {
      "cell_type": "code",
      "source": [
        "functions.logout()"
      ],
      "metadata": {
        "id": "psXQ25yUo0vM"
      },
      "execution_count": null,
      "outputs": []
    },
    {
      "cell_type": "code",
      "source": [],
      "metadata": {
        "id": "4WqVIDS2Oseq"
      },
      "execution_count": null,
      "outputs": []
    }
  ]
}