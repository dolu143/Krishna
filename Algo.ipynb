{
  "nbformat": 4,
  "nbformat_minor": 0,
  "metadata": {
    "colab": {
      "provenance": [],
      "authorship_tag": "ABX9TyOEqXX32eHTRVgzR+cCoAu0",
      "include_colab_link": true
    },
    "kernelspec": {
      "name": "python3",
      "display_name": "Python 3"
    },
    "language_info": {
      "name": "python"
    }
  },
  "cells": [
    {
      "cell_type": "markdown",
      "metadata": {
        "id": "view-in-github",
        "colab_type": "text"
      },
      "source": [
        "<a href=\"https://colab.research.google.com/github/dolu143/Krishna/blob/main/Algo.ipynb\" target=\"_parent\"><img src=\"https://colab.research.google.com/assets/colab-badge.svg\" alt=\"Open In Colab\"/></a>"
      ]
    },
    {
      "cell_type": "markdown",
      "source": [
        "\n",
        "\n",
        "```\n",
        "# !git clone https://github.com/dolu143/Krishna.git\n",
        "!pip install smartapi-python\n",
        "!pip install websocket\n",
        "!pip install pyotp\n",
        "!pip install xlwings\n",
        "!pip install xlsxwriter\n",
        "```\n",
        "\n",
        "---\n",
        "\n",
        "\n",
        "\n"
      ],
      "metadata": {
        "id": "SHKYg7XXZMc3"
      }
    },
    {
      "cell_type": "code",
      "source": [
        "from Krishna import functions\n",
        "exch_seg = 'NFO'\n",
        "timeframe = 'FIFTEEN_MINUTE'\n",
        "fromdate = '2023-03-15 09:00'\n",
        "todate = '2023-03-15 15:30'"
      ],
      "metadata": {
        "id": "cT3MkeLVmbEg"
      },
      "execution_count": 13,
      "outputs": []
    },
    {
      "cell_type": "code",
      "source": [
        "functions.intializeSymbolTokenMap()\n",
        "tokenInfo = functions.getTokenInfo(exch_seg,'OPTIDX','NIFTY',17000,'PE').iloc[0]\n",
        "#print(tokenInfo)\n",
        "symbol  = tokenInfo['symbol']\n",
        "token = tokenInfo['token']\n",
        "lot = int(tokenInfo['lotsize'])\n",
        "print(symbol, token, lot)"
      ],
      "metadata": {
        "colab": {
          "base_uri": "https://localhost:8080/"
        },
        "id": "3qRpndLf4088",
        "outputId": "076cab95-3364-4ef7-bc68-efe5477b86bb"
      },
      "execution_count": 14,
      "outputs": [
        {
          "output_type": "stream",
          "name": "stdout",
          "text": [
            "NIFTY16MAR2317000PE 55582 50\n"
          ]
        }
      ]
    },
    {
      "cell_type": "code",
      "source": [
        "functions.login()"
      ],
      "metadata": {
        "id": "-9TBYPal-ZNB",
        "colab": {
          "base_uri": "https://localhost:8080/"
        },
        "outputId": "35e6ecf3-6410-44ed-e778-1a1d2c663acd"
      },
      "execution_count": 15,
      "outputs": [
        {
          "output_type": "stream",
          "name": "stdout",
          "text": [
            "0873485272\n"
          ]
        }
      ]
    },
    {
      "cell_type": "code",
      "source": [
        "#functions.place_order(token,symbol,lot,'NFO','BUY','MARKET',0)\n"
      ],
      "metadata": {
        "id": "Efe5yKSN6EPk"
      },
      "execution_count": 16,
      "outputs": []
    },
    {
      "cell_type": "code",
      "source": [
        "functions.histcand(exch_seg,token,timeframe,fromdate,todate)"
      ],
      "metadata": {
        "id": "6vvFiwWUdcbg",
        "outputId": "dfaa2892-8013-4c0e-c913-6c79cd5d041a",
        "colab": {
          "base_uri": "https://localhost:8080/"
        }
      },
      "execution_count": 17,
      "outputs": [
        {
          "output_type": "stream",
          "name": "stdout",
          "text": [
            "Data fetch Successfull\n"
          ]
        }
      ]
    },
    {
      "cell_type": "code",
      "source": [
        "functions.logout()"
      ],
      "metadata": {
        "id": "psXQ25yUo0vM",
        "outputId": "b5d7005f-0113-47cc-9d5f-b6ca185781cd",
        "colab": {
          "base_uri": "https://localhost:8080/"
        }
      },
      "execution_count": 18,
      "outputs": [
        {
          "output_type": "stream",
          "name": "stdout",
          "text": [
            "Your Session was Logout Successfully\n"
          ]
        }
      ]
    },
    {
      "cell_type": "code",
      "source": [],
      "metadata": {
        "id": "4WqVIDS2Oseq"
      },
      "execution_count": 18,
      "outputs": []
    }
  ]
}