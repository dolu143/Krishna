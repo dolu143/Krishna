{
  "nbformat": 4,
  "nbformat_minor": 0,
  "metadata": {
    "colab": {
      "provenance": [],
      "authorship_tag": "ABX9TyM1h/SK4RrWpG0AGyIYGUcP",
      "include_colab_link": true
    },
    "kernelspec": {
      "name": "python3",
      "display_name": "Python 3"
    },
    "language_info": {
      "name": "python"
    }
  },
  "cells": [
    {
      "cell_type": "markdown",
      "metadata": {
        "id": "view-in-github",
        "colab_type": "text"
      },
      "source": [
        "<a href=\"https://colab.research.google.com/github/dolu143/Krishna/blob/main/Algo.ipynb\" target=\"_parent\"><img src=\"https://colab.research.google.com/assets/colab-badge.svg\" alt=\"Open In Colab\"/></a>"
      ]
    },
    {
      "cell_type": "markdown",
      "source": [
        "!pip install smartapi-python\n",
        "!pip install websocket-client\n",
        "!pip install pyotp\n",
        "!git clone https://github.com/dolu143/Krishna.git"
      ],
      "metadata": {
        "id": "KHpPY2pa4RU3"
      }
    },
    {
      "cell_type": "code",
      "source": [
        "from Krishna import functions\n",
        "exch_seg = 'NFO'\n",
        "timeframe = 'ONE_MINUTE'\n",
        "fromdate = '2023-03-14 09:00'\n",
        "todate = '2021-03-14 15:30'"
      ],
      "metadata": {
        "id": "cT3MkeLVmbEg"
      },
      "execution_count": 52,
      "outputs": []
    },
    {
      "cell_type": "code",
      "source": [
        "functions.intializeSymbolTokenMap()\n",
        "tokenInfo = functions.getTokenInfo(exch_seg,'OPTIDX','NIFTY',17000,'PE').iloc[0]\n",
        "#print(tokenInfo)\n",
        "symbol  = tokenInfo['symbol']\n",
        "token = tokenInfo['token']\n",
        "lot = int(tokenInfo['lotsize'])\n",
        "print(symbol, token, lot)"
      ],
      "metadata": {
        "colab": {
          "base_uri": "https://localhost:8080/"
        },
        "id": "3qRpndLf4088",
        "outputId": "f4d0230a-eeab-4ccf-9553-2856a3b6bc01"
      },
      "execution_count": 53,
      "outputs": [
        {
          "output_type": "stream",
          "name": "stdout",
          "text": [
            "NIFTY16MAR2317000PE 55582 50\n"
          ]
        }
      ]
    },
    {
      "cell_type": "code",
      "source": [
        "functions.login()"
      ],
      "metadata": {
        "id": "-9TBYPal-ZNB",
        "colab": {
          "base_uri": "https://localhost:8080/"
        },
        "outputId": "c662dc2c-69a7-419f-deae-6db4d6922ea6"
      },
      "execution_count": 54,
      "outputs": [
        {
          "output_type": "stream",
          "name": "stdout",
          "text": [
            "0891418825\n"
          ]
        }
      ]
    },
    {
      "cell_type": "code",
      "source": [
        "#functions.place_order(token,symbol,lot,'NFO','BUY','MARKET',0)\n",
        "functions.fetch_histcandle(exch_seg,token,timeframe,fromdate,todate)"
      ],
      "metadata": {
        "id": "Efe5yKSN6EPk"
      },
      "execution_count": null,
      "outputs": []
    },
    {
      "cell_type": "code",
      "source": [
        "functions.logout()"
      ],
      "metadata": {
        "id": "psXQ25yUo0vM"
      },
      "execution_count": null,
      "outputs": []
    }
  ]
}